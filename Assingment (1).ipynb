{
 "cells": [
  {
   "cell_type": "markdown",
   "id": "042d7fee-338b-4b7f-b41d-426bd39582b9",
   "metadata": {},
   "source": [
    "# Data Science Tools and Ecosystem\n"
   ]
  },
  {
   "cell_type": "markdown",
   "id": "1f7f184d-d5eb-4835-8fc5-bdb550ee3f8a",
   "metadata": {},
   "source": [
    "In this notebook, we will explore various tools, languages, and libraries used in the field of Data Science. We will also see some basic arithmetic operations as examples.\n"
   ]
  },
  {
   "cell_type": "markdown",
   "id": "beeccce9-b47c-458b-bab5-b1cc99c7db57",
   "metadata": {},
   "source": [
    "## Languages Used in Data Science\n",
    "\n",
    "- Python  \n",
    "- R  \n",
    "- SQL  \n",
    "- Julia  \n",
    "- Scala  \n"
   ]
  },
  {
   "cell_type": "markdown",
   "id": "215fdaa5-74c8-489c-aedd-f92bac91da90",
   "metadata": {},
   "source": [
    "## Libraries Used in Data Science\n",
    "\n",
    "- NumPy  \n",
    "- Pandas  \n",
    "- Matplotlib  \n",
    "- Scikit-learn  \n",
    "- TensorFlow  \n",
    "- Keras  \n"
   ]
  },
  {
   "cell_type": "markdown",
   "id": "128a2d74-8942-45ca-802a-11c37422fe02",
   "metadata": {},
   "source": [
    "## Data Science Tools\n",
    "\n",
    "| Tool              | Description                      |\n",
    "|-------------------|----------------------------------|\n",
    "| Jupyter Notebook  | Interactive computing environment |\n",
    "| RStudio           | IDE for R                        |\n",
    "| Apache Zeppelin   | Web-based notebook               |\n",
    "| TensorFlow        | Open-source ML framework         |\n",
    "| Apache Spark      | Big data processing framework    |\n"
   ]
  },
  {
   "cell_type": "markdown",
   "id": "665a8c14-c951-44d4-bd59-6f032d53d371",
   "metadata": {},
   "source": [
    "## Examples of Arithmetic Expressions\n",
    "\n",
    "Below are some examples of simple arithmetic operations like addition and multiplication.\n"
   ]
  },
  {
   "cell_type": "markdown",
   "id": "32b92be4-478e-4d54-a52a-6ee0f610ace1",
   "metadata": {},
   "source": [
    "# This code multiplies and adds two numbers\n",
    "result = (5 * 4) + 3\n",
    "result\n"
   ]
  },
  {
   "cell_type": "markdown",
   "id": "12af8261-e523-47ec-a462-bde232f820e3",
   "metadata": {},
   "source": [
    "# This code converts 150 minutes to hours\n",
    "minutes = 150\n",
    "hours = minutes / 60\n",
    "hours\n"
   ]
  },
  {
   "cell_type": "markdown",
   "id": "10a3f440-072b-4bf1-84c6-a2df55179fe7",
   "metadata": {},
   "source": [
    "## Objectives\n",
    "\n",
    "- List popular languages in Data Science  \n",
    "- Introduce common libraries used in Data Science  \n",
    "- Show examples of arithmetic expressions  \n",
    "- Create a table of Data Science tools  \n",
    "- Practice using Markdown and Code cells  \n"
   ]
  },
  {
   "cell_type": "markdown",
   "id": "09c69890-947b-48bc-a433-541e08353bd6",
   "metadata": {},
   "source": [
    "**Author:** Munib Piyara Soni Chummi\n"
   ]
  },
  {
   "cell_type": "markdown",
   "id": "32dbb4e3-31ef-4168-be9c-f802a52ca420",
   "metadata": {},
   "source": [
    "## GitHub Notebook Link\n",
    "\n",
    "[Click here to view my notebook on GitHub](https://github.com/Munib929/Graded-Assingment)\n"
   ]
  }
 ],
 "metadata": {
  "kernelspec": {
   "display_name": "Python 3 (ipykernel)",
   "language": "python",
   "name": "python3"
  },
  "language_info": {
   "codemirror_mode": {
    "name": "ipython",
    "version": 3
   },
   "file_extension": ".py",
   "mimetype": "text/x-python",
   "name": "python",
   "nbconvert_exporter": "python",
   "pygments_lexer": "ipython3",
   "version": "3.11.7"
  }
 },
 "nbformat": 4,
 "nbformat_minor": 5
}
